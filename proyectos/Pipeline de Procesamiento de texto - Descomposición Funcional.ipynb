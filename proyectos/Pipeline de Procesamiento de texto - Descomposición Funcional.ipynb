{
  "cells": [
    {
      "cell_type": "markdown",
      "metadata": {
        "id": "VI7NM9DKbQDa"
      },
      "source": [
        "### **⬇ Generar Texto_entrada.txt ⬇**"
      ]
    },
    {
      "cell_type": "code",
      "execution_count": null,
      "metadata": {
        "colab": {
          "base_uri": "https://localhost:8080/"
        },
        "id": "jFBzT0K0QGID",
        "outputId": "9b025aa1-cb96-48bf-e82c-38966797f922"
      },
      "outputs": [
        {
          "name": "stdout",
          "output_type": "stream",
          "text": [
            "Archivo grande 'texto_entrada.txt' generado con 5.000.000 líneas.\n"
          ]
        }
      ],
      "source": [
        "def generar_archivo_grande(ruta, lineas=1000000):\n",
        "    \"\"\"Genera un archivo de texto grande para pruebas de rendimiento.\"\"\"\n",
        "    with open(ruta, 'w') as f:\n",
        "        for i in range(lineas):\n",
        "            f.write(\"    esto es una linea con espacios.    \\n\")\n",
        "            f.write(\"otra linea en minusculas\\n\")\n",
        "            f.write(\"  Y OTRA CON ESPACIOS Y MAYUSCULAS  \\n\")\n",
        "            f.write(\"   linea adicional para procesar   \\n\")\n",
        "            f.write(\"mas lineas para tener suficientes datos\\n\")  # Con espacios al inicio y al final\n",
        "\n",
        "if __name__ == '__main__':\n",
        "    ruta_entrada = \"texto_entrada.txt\"\n",
        "    generar_archivo_grande(ruta_entrada)\n",
        "    print(f\"Archivo grande '{ruta_entrada}' generado con 5.000.000 líneas.\")\n"
      ]
    },
    {
      "cell_type": "markdown",
      "metadata": {
        "id": "t0nG0Ec_a-pL"
      },
      "source": [
        "### **⬇ Algoritmo Secuencial ⬇**"
      ]
    },
    {
      "cell_type": "code",
      "execution_count": null,
      "metadata": {
        "colab": {
          "base_uri": "https://localhost:8080/"
        },
        "id": "CePOAWzaa8Sr",
        "outputId": "b5e8eaf2-3315-4e71-d9d9-959788333357"
      },
      "outputs": [
        {
          "name": "stdout",
          "output_type": "stream",
          "text": [
            "Tiempo total de procesamiento secuencial: 3.55 segundos\n",
            "Archivo procesado secuencialmente guardado en texto_salida_secuencial.txt\n"
          ]
        }
      ],
      "source": [
        "import time\n",
        "\n",
        "def procesar_texto_secuencial(ruta_entrada, ruta_salida):\n",
        "    \"\"\"Procesa el archivo de texto secuencialmente.\"\"\"\n",
        "    try:\n",
        "        with open(ruta_entrada, 'r') as f_in, open(ruta_salida, 'w') as f_out:\n",
        "            for linea in f_in:\n",
        "                linea_limpia = linea.strip()\n",
        "                linea_mayusculas = linea_limpia.upper()\n",
        "                f_out.write(linea_mayusculas + '\\n')\n",
        "    except FileNotFoundError:\n",
        "        print(f\"Error: No se encontró el archivo {ruta_entrada}\")\n",
        "\n",
        "if __name__ == '__main__':\n",
        "    ruta_entrada = \"texto_entrada.txt\"\n",
        "    ruta_salida = \"texto_salida_secuencial.txt\"\n",
        "\n",
        "    inicio = time.time()\n",
        "    procesar_texto_secuencial(ruta_entrada, ruta_salida)\n",
        "    fin = time.time()\n",
        "\n",
        "    print(f\"Tiempo total de procesamiento secuencial: {fin - inicio:.2f} segundos\")\n",
        "    print(f\"Archivo procesado secuencialmente guardado en {ruta_salida}\")\n"
      ]
    },
    {
      "cell_type": "markdown",
      "metadata": {
        "id": "_pn--ULTbe0V"
      },
      "source": [
        "### **⬇ Algoritmo Pipeline (con descomposición funcional) ⬇**"
      ]
    },
    {
      "cell_type": "code",
      "execution_count": null,
      "metadata": {
        "colab": {
          "base_uri": "https://localhost:8080/"
        },
        "id": "ezjbbk4XbbMP",
        "outputId": "d027c303-8f97-454f-b2bb-95a9fdce734a"
      },
      "outputs": [
        {
          "name": "stdout",
          "output_type": "stream",
          "text": [
            "Tiempo total de procesamiento con pipeline en bytes: 2.56 segundos\n",
            "Archivo procesado en paralelo guardado en texto_salida_pipeline.txt\n"
          ]
        }
      ],
      "source": [
        "import multiprocessing\n",
        "import time\n",
        "\n",
        "# Tamaño del bloque en bytes\n",
        "TAM_BLOQUE = 1024 * 1024  # 1 MB\n",
        "\n",
        "def leer_datos(archivo_entrada, cola):\n",
        "    \"\"\"Lee el archivo en bloques de bytes y los envía a la cola.\"\"\"\n",
        "    with open(archivo_entrada, \"rb\") as f:\n",
        "        while True:\n",
        "            bloque = f.read(TAM_BLOQUE)\n",
        "            if not bloque:\n",
        "                break\n",
        "            cola.put(bloque)\n",
        "    cola.put(None)  # Señal de fin\n",
        "\n",
        "def limpiar_datos(cola_entrada, cola_salida):\n",
        "    \"\"\"Elimina espacios solo al inicio y al final, pero mantiene los internos.\"\"\"\n",
        "    while True:\n",
        "        bloque = cola_entrada.get()\n",
        "        if bloque is None:\n",
        "            cola_salida.put(None)\n",
        "            break\n",
        "        # Se convierte bytes a lineas, se limpian los espacion en los extremos y se reconstruye el bloque\n",
        "        lineas = bloque.decode(\"utf-8\").split(\"\\n\")  # Se divide en líneas\n",
        "        lineas_limpias = [linea.strip() for linea in lineas]  # Se eliminan lo espacios extremos\n",
        "        bloque_limpio = \"\\n\".join(lineas_limpias).encode(\"utf-8\")  # Reconvierte a bytes\n",
        "        cola_salida.put(bloque_limpio)\n",
        "\n",
        "def transformar_datos(cola_entrada, cola_salida):\n",
        "    \"\"\"Convierte los bloques de bytes a mayúsculas.\"\"\"\n",
        "    while True:\n",
        "        bloque = cola_entrada.get()\n",
        "        if bloque is None:\n",
        "            cola_salida.put(None)\n",
        "            break\n",
        "        bloque_transformado = bloque.upper()\n",
        "        cola_salida.put(bloque_transformado)\n",
        "\n",
        "def escribir_datos(cola_entrada, archivo_salida):\n",
        "    \"\"\"Escribe los bloques de bytes transformados al archivo de salida.\"\"\"\n",
        "    with open(archivo_salida, \"wb\") as f:\n",
        "        while True:\n",
        "            bloque = cola_entrada.get()\n",
        "            if bloque is None:\n",
        "                break\n",
        "            f.write(bloque)\n",
        "\n",
        "def procesar_texto_pipeline(entrada, salida):\n",
        "    \"\"\"Procesa el archivo de texto usando un pipeline paralelo.\"\"\"\n",
        "    cola_lectura = multiprocessing.SimpleQueue()\n",
        "    cola_limpieza = multiprocessing.SimpleQueue()\n",
        "    cola_transformacion = multiprocessing.SimpleQueue()\n",
        "\n",
        "    procesos = [\n",
        "        multiprocessing.Process(target=leer_datos, args=(entrada, cola_lectura)),\n",
        "        multiprocessing.Process(target=limpiar_datos, args=(cola_lectura, cola_limpieza)),\n",
        "        multiprocessing.Process(target=transformar_datos, args=(cola_limpieza, cola_transformacion)),\n",
        "        multiprocessing.Process(target=escribir_datos, args=(cola_transformacion, salida)),\n",
        "    ]\n",
        "\n",
        "    # Iniciar procesos\n",
        "    for p in procesos:\n",
        "        p.start()\n",
        "\n",
        "    # Esperar a que terminen\n",
        "    for p in procesos:\n",
        "        p.join()\n",
        "\n",
        "if __name__ == \"__main__\":\n",
        "    ruta_entrada = \"texto_entrada.txt\"\n",
        "    ruta_salida_pipeline = \"texto_salida_pipeline.txt\"\n",
        "\n",
        "    inicio = time.time()\n",
        "    procesar_texto_pipeline(ruta_entrada, ruta_salida_pipeline)\n",
        "    fin = time.time()\n",
        "\n",
        "    print(f\"Tiempo total de procesamiento con pipeline en bytes: {fin - inicio:.2f} segundos\")\n",
        "    print(f\"Archivo procesado en paralelo guardado en {ruta_salida_pipeline}\")\n"
      ]
    },
    {
      "cell_type": "markdown",
      "metadata": {
        "id": "vmEcb9KWbykD"
      },
      "source": [
        "### **⬇ Comparar Resultados ⬇**"
      ]
    },
    {
      "cell_type": "code",
      "execution_count": null,
      "metadata": {
        "colab": {
          "base_uri": "https://localhost:8080/"
        },
        "id": "nPiqc6oQbwQV",
        "outputId": "a9c510ca-598c-4c35-e227-056ef371965e"
      },
      "outputs": [
        {
          "name": "stdout",
          "output_type": "stream",
          "text": [
            "🔄 Ejecutando procesamiento secuencial...\n",
            "\n",
            "🚀 Ejecutando procesamiento con pipeline en bytes...\n",
            "\n",
            "📊 **COMPARACIÓN FINAL**\n",
            "✅ Secuencial: 2.07 s\n",
            "🚀 Pipeline en bytes: 2.56 s\n",
            "⚡ **Mejora con pipeline: -23.47%**\n"
          ]
        }
      ],
      "source": [
        "# Rutas de archivos\n",
        "ruta_entrada = \"texto_entrada.txt\"\n",
        "ruta_salida_secuencial = \"texto_salida_secuencial.txt\"\n",
        "ruta_salida_pipeline = \"texto_salida_pipeline.txt\"\n",
        "\n",
        "# Ejecutar procesamiento secuencial\n",
        "print(\"Ejecutando procesamiento secuencial...\")\n",
        "inicio_sec = time.time()\n",
        "procesar_texto_secuencial(ruta_entrada, ruta_salida_secuencial)\n",
        "fin_sec = time.time()\n",
        "tiempo_sec = fin_sec - inicio_sec\n",
        "\n",
        "# Ejecutar procesamiento con pipeline\n",
        "print(\"\\nEjecutando procesamiento con pipeline en bytes...\")\n",
        "inicio_pipe = time.time()\n",
        "procesar_texto_pipeline(ruta_entrada, ruta_salida_pipeline)\n",
        "fin_pipe = time.time()\n",
        "tiempo_pipe = fin_pipe - inicio_pipe\n",
        "\n",
        "# Comparar tiempos\n",
        "print(\"\\n**COMPARACIÓN FINAL**\")\n",
        "print(f\"Secuencial: {tiempo_sec:.2f} s\")\n",
        "print(f\"Pipeline en bytes: {tiempo_pipe:.2f} s\")\n",
        "mejora = ((tiempo_sec - tiempo_pipe) / tiempo_sec) * 100\n",
        "print(f\"**Mejora con pipeline: {mejora:.2f}%**\")\n"
      ]
    }
  ],
  "metadata": {
    "colab": {
      "provenance": []
    },
    "kernelspec": {
      "display_name": "Python 3",
      "name": "python3"
    },
    "language_info": {
      "name": "python"
    }
  },
  "nbformat": 4,
  "nbformat_minor": 0
}
