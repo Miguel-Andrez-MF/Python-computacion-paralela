{
  "cells": [
    {
      "cell_type": "markdown",
      "metadata": {
        "id": "bablzvFEwY7d"
      },
      "source": [
        "### **Creacion de la Matriz**"
      ]
    },
    {
      "cell_type": "code",
      "execution_count": null,
      "metadata": {
        "id": "hSUxNmx5pyik"
      },
      "outputs": [],
      "source": [
        "import numpy as np\n",
        "\n",
        "# Tamaño de la matriz\n",
        "tamanoMatriz = 10_000\n",
        "\n",
        "# Crear la matriz con números aleatorios entre 1 y 100\n",
        "matriz = np.random.randint(1, 101, size=(tamanoMatriz, tamanoMatriz), dtype=np.int32)"
      ]
    },
    {
      "cell_type": "markdown",
      "metadata": {
        "id": "mWP7Gcp2wlWP"
      },
      "source": [
        "### **Simulacion Sistema Hibrido SMP y SIMD**"
      ]
    },
    {
      "cell_type": "code",
      "execution_count": null,
      "metadata": {
        "colab": {
          "base_uri": "https://localhost:8080/"
        },
        "id": "XfI-03sLtBV1",
        "outputId": "da03dd02-7648-4fa9-c874-d3c5a27f8290"
      },
      "outputs": [
        {
          "name": "stdout",
          "output_type": "stream",
          "text": [
            "Suma total (paralelizado): 5049943584\n",
            "Tiempo de ejecución con paralelización: 0.07 segundos\n"
          ]
        }
      ],
      "source": [
        "import concurrent.futures\n",
        "import time\n",
        "\n",
        "# Definir el tamaño del bloque\n",
        "tamanoBloque = 1000\n",
        "\n",
        "# Función que suma los elementos de un bloque usando SIMD (NumPy)\n",
        "def sumarBloque(bloque):\n",
        "    return np.sum(bloque)\n",
        "\n",
        "# Dividir la matriz en bloques de 1000x1000\n",
        "bloques = [matriz[i:i+tamanoBloque, j:j+tamanoBloque]\n",
        "           for i in range(0, tamanoMatriz, tamanoBloque)\n",
        "           for j in range(0, tamanoMatriz, tamanoBloque)]\n",
        "\n",
        "# Medir tiempo de ejecución\n",
        "inicioTiempo = time.time()\n",
        "\n",
        "# Ejecutar en paralelo usando ThreadPoolExecutor\n",
        "with concurrent.futures.ThreadPoolExecutor() as ejecutor:\n",
        "    resultados = list(ejecutor.map(sumarBloque, bloques))\n",
        "\n",
        "# Suma total\n",
        "sumaTotalParalela = sum(resultados)\n",
        "\n",
        "finTiempo = time.time()\n",
        "print(f\"Suma total (paralelizado): {sumaTotalParalela}\")\n",
        "print(f\"Tiempo de ejecución con paralelización: {finTiempo - inicioTiempo:.2f} segundos\")"
      ]
    },
    {
      "cell_type": "markdown",
      "metadata": {
        "id": "qJ0ReVwWwt69"
      },
      "source": [
        "### **Solucion Secuencial**"
      ]
    },
    {
      "cell_type": "code",
      "execution_count": null,
      "metadata": {
        "colab": {
          "base_uri": "https://localhost:8080/"
        },
        "id": "QA5bTeeNtBaX",
        "outputId": "f3e96245-1e34-4e7f-d89a-239aae12e121"
      },
      "outputs": [
        {
          "name": "stdout",
          "output_type": "stream",
          "text": [
            "Suma total (secuencial): 5049943584\n",
            "Tiempo de ejecución sin paralelización: 0.11 segundos\n"
          ]
        }
      ],
      "source": [
        "# Medir tiempo de ejecución\n",
        "inicioTiempo = time.time()\n",
        "\n",
        "# Suma secuencial usando NumPy\n",
        "sumaTotalSecuencial = np.sum(matriz)\n",
        "\n",
        "finTiempo = time.time()\n",
        "print(f\"Suma total (secuencial): {sumaTotalSecuencial}\")\n",
        "print(f\"Tiempo de ejecución sin paralelización: {finTiempo - inicioTiempo:.2f} segundos\")"
      ]
    }
  ],
  "metadata": {
    "colab": {
      "provenance": []
    },
    "kernelspec": {
      "display_name": "Python 3",
      "name": "python3"
    },
    "language_info": {
      "name": "python"
    }
  },
  "nbformat": 4,
  "nbformat_minor": 0
}
