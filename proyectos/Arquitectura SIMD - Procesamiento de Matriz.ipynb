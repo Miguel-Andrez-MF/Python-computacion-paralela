{
  "cells": [
    {
      "cell_type": "markdown",
      "metadata": {
        "id": "3UIMuPKGuYkc"
      },
      "source": [
        "### **Creacion de las Matrices**"
      ]
    },
    {
      "cell_type": "code",
      "execution_count": null,
      "metadata": {
        "id": "_0jPPdimyCdP"
      },
      "outputs": [],
      "source": [
        "import numpy as np\n",
        "import time\n",
        "import matplotlib.pyplot as plt\n",
        "\n",
        "dimension = 1000  # Tamaño de las matrices\n",
        "\n",
        "# Crear matrices aleatorias de 1000x1000\n",
        "matrizA = np.random.rand(dimension, dimension)\n",
        "matrizB = np.random.rand(dimension, dimension)"
      ]
    },
    {
      "cell_type": "markdown",
      "metadata": {
        "id": "Rjh6ALdOuaSP"
      },
      "source": [
        "### **Multiplicacion con Numpy**"
      ]
    },
    {
      "cell_type": "code",
      "execution_count": null,
      "metadata": {
        "colab": {
          "base_uri": "https://localhost:8080/"
        },
        "id": "yGx_F1zJuHsm",
        "outputId": "eb24d9de-4a6a-4dff-f014-0d6f58a6b4a9"
      },
      "outputs": [
        {
          "name": "stdout",
          "output_type": "stream",
          "text": [
            "Tiempo con NumPy: 0.109209 segundos\n"
          ]
        }
      ],
      "source": [
        "tiempoInicio = time.time()\n",
        "resultadoNumPy = np.dot(matrizA, matrizB)\n",
        "tiempoNumPy = time.time() - tiempoInicio\n",
        "print(f\"Tiempo con NumPy: {tiempoNumPy:.6f} segundos\")"
      ]
    },
    {
      "cell_type": "markdown",
      "metadata": {
        "id": "1uGxJS8luZr0"
      },
      "source": [
        "### **Multiplicacion con Bucle Tradicional**"
      ]
    },
    {
      "cell_type": "code",
      "execution_count": null,
      "metadata": {
        "colab": {
          "base_uri": "https://localhost:8080/"
        },
        "id": "OybigOqiuH0k",
        "outputId": "c27c5d9e-f46b-42f1-b72b-4279f316eb26"
      },
      "outputs": [
        {
          "name": "stdout",
          "output_type": "stream",
          "text": [
            "Tiempo con bucle tradicional: 224.015797 segundos\n"
          ]
        }
      ],
      "source": [
        "def multiplicacionMatrices(matrizA, matrizB):\n",
        "    resultado = [[0] * len(matrizB[0]) for _ in range(len(matrizA))]\n",
        "    for fila in range(len(matrizA)):\n",
        "        for columna in range(len(matrizB[0])):\n",
        "            for k in range(len(matrizB)):\n",
        "                resultado[fila][columna] += matrizA[fila][k] * matrizB[k][columna]\n",
        "    return resultado\n",
        "\n",
        "# Ejecutar multiplicación con bucle tradicional\n",
        "tiempoInicio = time.time()\n",
        "resultadoManual = multiplicacionMatrices(matrizA.tolist(), matrizB.tolist())\n",
        "tiempoManual = time.time() - tiempoInicio\n",
        "print(f\"Tiempo con bucle tradicional: {tiempoManual:.6f} segundos\")"
      ]
    }
  ],
  "metadata": {
    "colab": {
      "provenance": []
    },
    "kernelspec": {
      "display_name": "Python 3",
      "name": "python3"
    },
    "language_info": {
      "name": "python"
    }
  },
  "nbformat": 4,
  "nbformat_minor": 0
}
