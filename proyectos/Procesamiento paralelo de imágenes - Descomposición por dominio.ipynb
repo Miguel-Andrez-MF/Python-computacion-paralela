{
  "cells": [
    {
      "cell_type": "markdown",
      "metadata": {
        "id": "ijGR-N2dV3Q5"
      },
      "source": [
        "### **⬇ Versión Secuencial (Patrón Monolítico) ⬇**"
      ]
    },
    {
      "cell_type": "code",
      "execution_count": null,
      "metadata": {
        "id": "5Q3Qmfygfy61"
      },
      "outputs": [],
      "source": [
        "from PIL import Image\n",
        "import os\n",
        "import time\n",
        "\n",
        "# Directorios\n",
        "directorio_original = \"imagenes_prueba\"  # Carpeta donde están las imágenes originales\n",
        "directorio_grises = \"imagenes_gris_secuencial\"  # Carpeta donde guardaremos las imágenes procesadas\n",
        "\n",
        "# Crear la carpeta de salida si no existe\n",
        "os.makedirs(directorio_grises, exist_ok=True)\n",
        "\n",
        "# Función para convertir una imagen a escala de grises y guardarla en la nueva carpeta\n",
        "def convertir_a_gris(ruta_imagen, nombre_original):\n",
        "    try:\n",
        "        imagen = Image.open(ruta_imagen)\n",
        "        imagen_gris = imagen.convert('L')  # 'L' representa escala de grises\n",
        "\n",
        "        # Crear nueva ruta en la carpeta de imágenes grises\n",
        "        nombre_archivo, extension = os.path.splitext(nombre_original)\n",
        "        ruta_gris = os.path.join(directorio_grises, nombre_archivo + \"_gris\" + extension)\n",
        "\n",
        "        imagen_gris.save(ruta_gris)\n",
        "        print(f\"Imagen convertida y guardada en: {ruta_gris}\")\n",
        "    except Exception as e:\n",
        "        print(f\"Error al procesar {ruta_imagen}: {e}\")\n",
        "\n",
        "# Función para procesar imágenes de forma secuencial y guardarlas en la nueva carpeta\n",
        "def procesar_imagenes_secuencial():\n",
        "    lista_imagenes = [f for f in os.listdir(directorio_original) if os.path.isfile(os.path.join(directorio_original, f))]\n",
        "\n",
        "    inicio = time.time()\n",
        "\n",
        "    for nombre_imagen in lista_imagenes:\n",
        "        ruta_imagen = os.path.join(directorio_original, nombre_imagen)\n",
        "        convertir_a_gris(ruta_imagen, nombre_imagen)\n",
        "\n",
        "    fin = time.time()\n",
        "    print(f\"Tiempo total de procesamiento secuencial: {fin - inicio:.2f} segundos\")\n",
        "\n",
        "# Ejecutar el procesamiento secuencial\n",
        "procesar_imagenes_secuencial()\n"
      ]
    },
    {
      "cell_type": "markdown",
      "metadata": {
        "id": "lyI1Xv1EWGub"
      },
      "source": [
        "### **⬇ Versión Paralela con Threads - ThreadPoolExecutor.map() ⬇**"
      ]
    },
    {
      "cell_type": "code",
      "execution_count": null,
      "metadata": {
        "id": "_IGmG0whlMey"
      },
      "outputs": [],
      "source": [
        "import concurrent.futures\n",
        "from PIL import Image\n",
        "import os\n",
        "import time\n",
        "\n",
        "# Directorios\n",
        "directorio_original = \"imagenes_prueba\"  # Carpeta con imágenes originales\n",
        "directorio_grises = \"imagenes_gris_paralelo(Thread)\"  # Carpeta donde guardaremos las imágenes en escala de grises\n",
        "\n",
        "# Crear la carpeta de salida si no existe\n",
        "os.makedirs(directorio_grises, exist_ok=True)\n",
        "\n",
        "# Obtener la lista de archivos de imagen\n",
        "archivos = [os.path.join(directorio_original, f) for f in os.listdir(directorio_original) if os.path.isfile(os.path.join(directorio_original, f))]\n",
        "\n",
        "# Función para convertir una imagen a escala de grises\n",
        "def convertir_a_gris(ruta_imagen):\n",
        "    try:\n",
        "        imagen = Image.open(ruta_imagen)\n",
        "        imagen_gris = imagen.convert('L')  # 'L' representa escala de grises\n",
        "\n",
        "        # Crear nueva ruta en la carpeta de imágenes grises\n",
        "        nombre_archivo, extension = os.path.splitext(os.path.basename(ruta_imagen))\n",
        "        ruta_gris = os.path.join(directorio_grises, nombre_archivo + \"_gris\" + extension)\n",
        "\n",
        "        imagen_gris.save(ruta_gris)\n",
        "        print(f\"Imagen convertida y guardada en: {ruta_gris}\")\n",
        "    except Exception as e:\n",
        "        print(f\"Error al procesar {ruta_imagen}: {e}\")\n",
        "\n",
        "# Procesamiento paralelo con executor.map()\n",
        "def procesar_imagenes_paralelo_map():\n",
        "    inicio = time.time()\n",
        "\n",
        "    with concurrent.futures.ThreadPoolExecutor() as executor:\n",
        "        list(executor.map(convertir_a_gris, archivos))  # Aplica la función en paralelo\n",
        "\n",
        "    fin = time.time()\n",
        "    print(f\"Tiempo total de procesamiento paralelo (map): {fin - inicio:.2f} segundos\")\n",
        "\n",
        "# Ejecutar el procesamiento en paralelo\n",
        "procesar_imagenes_paralelo_map()\n"
      ]
    },
    {
      "cell_type": "markdown",
      "metadata": {
        "id": "DrR8s1YdWOkJ"
      },
      "source": [
        "### **⬇ Versión Paralela con Procesos - ProcessPoolExecutor.map() ⬇**"
      ]
    },
    {
      "cell_type": "code",
      "execution_count": null,
      "metadata": {
        "id": "uSJWqNfbmjvQ"
      },
      "outputs": [],
      "source": [
        "import concurrent.futures\n",
        "from PIL import Image\n",
        "import os\n",
        "import time\n",
        "\n",
        "# Directorios\n",
        "directorio_original = \"imagenes_prueba\"  # Carpeta con imágenes originales\n",
        "directorio_grises = \"imagenes_gris_paralelo(Process)\"  # Carpeta donde guardaremos las imágenes en escala de grises\n",
        "\n",
        "# Crear la carpeta de salida si no existe\n",
        "os.makedirs(directorio_grises, exist_ok=True)\n",
        "\n",
        "# Obtener la lista de archivos de imagen\n",
        "archivos = [os.path.join(directorio_original, f) for f in os.listdir(directorio_original) if os.path.isfile(os.path.join(directorio_original, f))]\n",
        "\n",
        "# Función para convertir una imagen a escala de grises\n",
        "def convertir_a_gris(ruta_imagen):\n",
        "    try:\n",
        "        imagen = Image.open(ruta_imagen)\n",
        "        imagen_gris = imagen.convert('L')  # 'L' representa escala de grises\n",
        "\n",
        "        # Crear nueva ruta en la carpeta de imágenes grises\n",
        "        nombre_archivo, extension = os.path.splitext(os.path.basename(ruta_imagen))\n",
        "        ruta_gris = os.path.join(directorio_grises, nombre_archivo + \"_gris\" + extension)\n",
        "\n",
        "        imagen_gris.save(ruta_gris)\n",
        "        print(f\"Imagen convertida y guardada en: {ruta_gris}\")\n",
        "    except Exception as e:\n",
        "        print(f\"Error al procesar {ruta_imagen}: {e}\")\n",
        "\n",
        "# Procesamiento paralelo con executor.map()\n",
        "def procesar_imagenes_paralelo_map():\n",
        "    inicio = time.time()\n",
        "\n",
        "    with concurrent.futures.ProcessPoolExecutor() as executor:\n",
        "        list(executor.map(convertir_a_gris, archivos))  # Aplica la función en paralelo\n",
        "\n",
        "    fin = time.time()\n",
        "    print(f\"Tiempo total de procesamiento paralelo (map): {fin - inicio:.2f} segundos\")\n",
        "\n",
        "# Ejecutar el procesamiento en paralelo\n",
        "procesar_imagenes_paralelo_map()\n"
      ]
    },
    {
      "cell_type": "markdown",
      "metadata": {
        "id": "aheT_crWWVHF"
      },
      "source": [
        "### **⬇ Versión Paralela a Nivel de Píxeles - Patrón Parallel Map ⬇**"
      ]
    },
    {
      "cell_type": "code",
      "execution_count": null,
      "metadata": {
        "id": "2Gg7m5GPoMax"
      },
      "outputs": [],
      "source": [
        "import concurrent.futures\n",
        "from PIL import Image\n",
        "import os\n",
        "import time\n",
        "\n",
        "# Directorios\n",
        "directorio_original = \"imagenes_prueba\"\n",
        "directorio_grises = \"imagenes_grises(Pixeles)\"\n",
        "\n",
        "# Crear la carpeta de salida si no existe\n",
        "os.makedirs(directorio_grises, exist_ok=True)\n",
        "\n",
        "# Función para convertir un píxel a escala de grises\n",
        "def convertir_pixel_gris(pixel):\n",
        "    r, g, b = pixel[:3]  # Ignorar el canal alfa si lo hay\n",
        "    gris = int(0.299 * r + 0.587 * g + 0.114 * b)  # Conversión a escala de grises\n",
        "    return (gris, gris, gris)  # Retornar el nuevo píxel en formato RGB\n",
        "\n",
        "# Función para procesar una imagen a nivel de píxeles en paralelo\n",
        "def procesar_imagen_por_pixeles(ruta_imagen):\n",
        "    try:\n",
        "        imagen = Image.open(ruta_imagen)\n",
        "        imagen = imagen.convert(\"RGB\")  # Convertir a RGB si no lo está\n",
        "\n",
        "        pixeles = list(imagen.getdata())  # Obtener todos los píxeles en una lista\n",
        "\n",
        "        # Paralelizar la conversión de píxeles\n",
        "        with concurrent.futures.ThreadPoolExecutor() as executor:\n",
        "            pixeles_grises = list(executor.map(convertir_pixel_gris, pixeles))\n",
        "\n",
        "        # Crear nueva imagen con los píxeles en escala de grises\n",
        "        imagen_gris = Image.new(\"RGB\", imagen.size)\n",
        "        imagen_gris.putdata(pixeles_grises)\n",
        "\n",
        "        # Guardar la imagen procesada\n",
        "        nombre_archivo, extension = os.path.splitext(os.path.basename(ruta_imagen))\n",
        "        ruta_gris = os.path.join(directorio_grises, nombre_archivo + \"_gris\" + extension)\n",
        "        imagen_gris.save(ruta_gris)\n",
        "\n",
        "        print(f\"Imagen convertida y guardada en: {ruta_gris}\")\n",
        "    except Exception as e:\n",
        "        print(f\"Error al procesar {ruta_imagen}: {e}\")\n",
        "\n",
        "# Función para procesar todas las imágenes\n",
        "def procesar_imagenes_paralelo_pixeles():\n",
        "    lista_imagenes = [os.path.join(directorio_original, f) for f in os.listdir(directorio_original) if os.path.isfile(os.path.join(directorio_original, f))]\n",
        "\n",
        "    inicio = time.time()\n",
        "\n",
        "    # Paralelizar el procesamiento de imágenes\n",
        "    with concurrent.futures.ProcessPoolExecutor() as executor:\n",
        "        list(executor.map(procesar_imagen_por_pixeles, lista_imagenes))\n",
        "\n",
        "    fin = time.time()\n",
        "    print(f\"Tiempo total de procesamiento paralelo por píxeles: {fin - inicio:.2f} segundos\")\n",
        "\n",
        "# Ejecutar el procesamiento\n",
        "procesar_imagenes_paralelo_pixeles()\n"
      ]
    }
  ],
  "metadata": {
    "colab": {
      "provenance": []
    },
    "kernelspec": {
      "display_name": "Python 3",
      "name": "python3"
    },
    "language_info": {
      "name": "python"
    }
  },
  "nbformat": 4,
  "nbformat_minor": 0
}
