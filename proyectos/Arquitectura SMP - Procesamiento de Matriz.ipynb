{
  "nbformat": 4,
  "nbformat_minor": 0,
  "metadata": {
    "colab": {
      "provenance": []
    },
    "kernelspec": {
      "name": "python3",
      "display_name": "Python 3"
    },
    "language_info": {
      "name": "python"
    }
  },
  "cells": [
    {
      "cell_type": "markdown",
      "source": [
        "### **Crear la matriz de 1000x1000 con valores aleatorios**"
      ],
      "metadata": {
        "id": "JHiUwWeMa1CM"
      }
    },
    {
      "cell_type": "code",
      "execution_count": null,
      "metadata": {
        "id": "oacPcgYpifmU"
      },
      "outputs": [],
      "source": [
        "import numpy as np\n",
        "import threading\n",
        "import time\n",
        "\n",
        "tamanoMatriz = 1000\n",
        "tamanoBloque = 100\n",
        "matriz = np.random.randint(1, 100, size=(tamanoMatriz, tamanoMatriz))"
      ]
    },
    {
      "cell_type": "markdown",
      "source": [
        "### **Solución con paralelización (hilos)**"
      ],
      "metadata": {
        "id": "06h8ie0HbenE"
      }
    },
    {
      "cell_type": "code",
      "source": [
        "def sumarBloque(matriz, inicioFila, inicioColumna, resultados, indice):\n",
        "    #Calcula la suma de un bloque de la matriz y almacena el resultado en la lista compartida\n",
        "    bloqueSuma = np.sum(matriz[inicioFila:inicioFila+tamanoBloque, inicioColumna:inicioColumna+tamanoBloque])\n",
        "    resultados[indice] = bloqueSuma\n",
        "\n",
        "def sumaParalela(matriz):\n",
        "    hilos = []\n",
        "    resultados = [0] * ((tamanoMatriz // tamanoBloque) ** 2)\n",
        "    indice = 0\n",
        "\n",
        "    for i in range(0, tamanoMatriz, tamanoBloque):\n",
        "        for j in range(0, tamanoMatriz, tamanoBloque):\n",
        "            hilo = threading.Thread(target=sumarBloque, args=(matriz, i, j, resultados, indice))\n",
        "            hilos.append(hilo)\n",
        "            hilo.start()\n",
        "            indice += 1\n",
        "\n",
        "    for hilo in hilos:\n",
        "        hilo.join()\n",
        "\n",
        "    return sum(resultados)\n",
        "\n",
        "inicioTiempoParalelo = time.time()\n",
        "resultadoParalelo = sumaParalela(matriz)\n",
        "finTiempoParalelo = time.time()\n",
        "print(f\"Suma total con paralelización: {resultadoParalelo}\")\n",
        "print(f\"Tiempo de ejecución con paralelización: {finTiempoParalelo - inicioTiempoParalelo:.5f} segundos\")"
      ],
      "metadata": {
        "colab": {
          "base_uri": "https://localhost:8080/"
        },
        "id": "rFpbYrxfa9WF",
        "outputId": "5cce1a66-9aba-470f-c514-924053c0d021"
      },
      "execution_count": null,
      "outputs": [
        {
          "output_type": "stream",
          "name": "stdout",
          "text": [
            "Suma total con paralelización: 49974733\n",
            "Tiempo de ejecución con paralelización: 0.02376 segundos\n"
          ]
        }
      ]
    },
    {
      "cell_type": "markdown",
      "source": [
        "### **Solución sin paralelización (secuencial)**"
      ],
      "metadata": {
        "id": "M-dGBm13bw10"
      }
    },
    {
      "cell_type": "code",
      "source": [
        "def sumaSecuencial(matriz):\n",
        "    return np.sum(matriz)\n",
        "\n",
        "inicioTiempoSecuencial = time.time()\n",
        "resultadoSecuencial = sumaSecuencial(matriz)\n",
        "finTiempoSecuencial = time.time()\n",
        "print(f\"Suma total sin paralelización: {resultadoSecuencial}\")\n",
        "print(f\"Tiempo de ejecución sin paralelización: {finTiempoSecuencial - inicioTiempoSecuencial:.5f} segundos\")"
      ],
      "metadata": {
        "colab": {
          "base_uri": "https://localhost:8080/"
        },
        "id": "4z1N5fApbuVO",
        "outputId": "f9d469ab-e683-4b9a-ecb0-ac4eb10bed03"
      },
      "execution_count": null,
      "outputs": [
        {
          "output_type": "stream",
          "name": "stdout",
          "text": [
            "Suma total sin paralelización: 49974733\n",
            "Tiempo de ejecución sin paralelización: 0.00128 segundos\n"
          ]
        }
      ]
    }
  ]
}